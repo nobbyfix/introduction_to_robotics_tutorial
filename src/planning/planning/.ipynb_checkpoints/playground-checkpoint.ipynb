{
 "cells": [
  {
   "cell_type": "code",
   "execution_count": 1,
   "metadata": {},
   "outputs": [],
   "source": [
    "from planning import utils\n",
    "from shapely import geometry\n",
    "from trajectory_generator.vehicle_model_node import (\n",
    "    TrajectoryGenerator,\n",
    "    Vehicle,\n",
    ")\n"
   ]
  },
  {
   "cell_type": "code",
   "execution_count": 2,
   "metadata": {},
   "outputs": [],
   "source": [
    "vm = TrajectoryGenerator(\n",
    "                         model=Vehicle(1),\n",
    "                         step=0.1,\n",
    "                         r=0.2,\n",
    "                         r_step=1.0,\n",
    "        )\n"
   ]
  },
  {
   "cell_type": "code",
   "execution_count": 3,
   "metadata": {},
   "outputs": [
    {
     "data": {
      "image/svg+xml": [
       "<svg xmlns=\"http://www.w3.org/2000/svg\" xmlns:xlink=\"http://www.w3.org/1999/xlink\" width=\"100.0\" height=\"100.0\" viewBox=\"-1.4075902807754965 -4.437590280775496 3.989443902909996 6.045902852550164\" preserveAspectRatio=\"xMinYMin meet\"><g transform=\"matrix(1,0,0,-1,0,-2.8292777090008285)\"><g><path fill-rule=\"evenodd\" fill=\"#66cc99\" stroke=\"#555555\" stroke-width=\"0.12091805705100328\" opacity=\"0.6\" d=\"M -1.175620835946282,-0.8399999999999997 L -1.1836679529032683,1.0747025710494342 L -1.0433355349529403,1.2591106857478211 L 1.627867965644036,1.2843902439024393 L 1.8899999999999997,1.3843902439024394 L 2.0835427015881693,1.3779312942622708 L 2.1891106857478206,1.293335534952941 L 2.264390243902439,1.1100000000000003 L 2.357931294262271,-2.483542701588168 L 2.154702571049436,-2.7136679529032683 L 1.5900000000000003,-2.6259541785769063 L 0.8122309223836695,-2.6643902439024383 L 0.8136679529032682,-4.004702571049434 L 0.6607095105238996,-4.196678433554692 L 0.12529742895056603,-4.213667952903268 L -0.043335534952940374,-4.139110685747821 L -1.0666784335546926,-3.1107095105238987 L -1.175620835946282,-0.8399999999999997 z M -0.7927844322104537,0.8865671068831054 L -0.7356097560975611,-2.7308985056155923 L -0.5915550330508993,-3.021922688690698 L 0.15275098553785643,-3.7709339118118135 L 0.4203149606299216,-3.8156097560975613 L 0.4203149606299216,-2.804931357561088 L 0.3703149606299213,-2.659685039370078 L 0.25968503937007903,-2.659685039370078 L 0.23865458666186382,-3.074014124518251 L 0.10397007729585768,-3.1590330789968104 L -0.035751056548060975,-3.096066017177982 L -0.07968503937007884,-2.49 L -0.016834074092188164,-2.3603173982891006 L 0.27547180079086026,-2.2710201803201615 L 1.9203149606299212,-2.2656097560975614 L 1.915609756097561,0.8008985056155925 L 1.8717758938157922,0.8903149606299215 L -0.7927844322104537,0.8865671068831054 z\" /><path fill-rule=\"evenodd\" fill=\"#66cc99\" stroke=\"#555555\" stroke-width=\"0.12091805705100328\" opacity=\"0.6\" d=\"M 0.1308985056155921,-0.6143902439024386 L -0.031309680243700275,-0.5963558814886724 L -0.1269601559572635,-0.4684612022625734 L 0.046457298411830536,-0.22677391027008964 L 1.1335427015881698,-0.2767739102700897 L 1.2568028314305633,-0.4107364516975811 L 1.25322608972991,-0.9835427015881693 L 1.104702571049434,-1.1089627483709081 L -0.0030967979382233377,-1.103360597512276 L -0.12968503937007866,-0.9400000000000003 L -0.01740251485476422,-0.7817330307532281 L 0.865609756097561,-0.767357034340552 L 0.865609756097561,-0.6143902439024386 L 0.1308985056155921,-0.6143902439024386 z\" /></g></g></svg>"
      ],
      "text/plain": [
       "<shapely.geometry.multipolygon.MultiPolygon at 0x7fc5446d57f0>"
      ]
     },
     "execution_count": 3,
     "metadata": {},
     "output_type": "execute_result"
    }
   ],
   "source": [
    "occ = utils.calculate_occupied_space('/home/basti/ros/driving_swarm_infrastructure/src/driving_swarm_bringup/maps/lndw2022.yaml')\n",
    "occ"
   ]
  },
  {
   "cell_type": "code",
   "execution_count": 6,
   "metadata": {},
   "outputs": [],
   "source": [
    "path = vm.tuples_to_path([(0.0, 0.0, 3.0), (1.0, 0.5, 3.1415)])"
   ]
  },
  {
   "cell_type": "code",
   "execution_count": 7,
   "metadata": {},
   "outputs": [
    {
     "data": {
      "image/svg+xml": [
       "<svg xmlns=\"http://www.w3.org/2000/svg\" xmlns:xlink=\"http://www.w3.org/1999/xlink\" width=\"100.0\" height=\"100.0\" viewBox=\"-0.22601984124660016 -0.05474484553776271 1.4781108295195928 0.6094896910755254\" preserveAspectRatio=\"xMinYMin meet\"><g transform=\"matrix(1,0,0,-1,0,0.5)\"><polyline fill=\"none\" stroke=\"#66cc99\" stroke-width=\"0.029562216590391856\" points=\"0.0,0.0 -0.09147042720881787,0.03776977621070235 -0.1536354837531629,0.11476913201066062 -0.17127499570883745,0.2121459396536297 -0.14007019534960585,0.30605896049371706 -0.06766110610886715,0.37351501169816365 0.028224001611973356,0.3979984993200891 0.12534175306570963,0.37661809950903935 0.22035339717142574,0.3454285582439174 0.31536504127714177,0.3142390169787955 0.4103766853828578,0.2830494757136736 0.505388329488574,0.25185993444855165 0.60039997359429,0.2206703931834298 0.6954116177000064,0.1894808519183078 0.7904232618057224,0.1582913106531859 0.8854349059114388,0.12710176938806392 0.9816633085042495,0.10084065514324025 1.0793878474051344,0.11643903792414415 1.157670935547239,0.17697954634376065 1.19734614273523,0.2676397525169222 1.1886995945282628,0.3662228760872107 1.1338482674863133,0.44859233019798705 1.0462216794761596,0.4945811997477918 1.0,0.5\" opacity=\"0.8\" /></g></svg>"
      ],
      "text/plain": [
       "<shapely.geometry.linestring.LineString at 0x7fc5446e1fd0>"
      ]
     },
     "execution_count": 7,
     "metadata": {},
     "output_type": "execute_result"
    }
   ],
   "source": [
    "utils.path_2d(path)"
   ]
  },
  {
   "cell_type": "code",
   "execution_count": 9,
   "metadata": {},
   "outputs": [
    {
     "data": {
      "text/plain": [
       "False"
      ]
     },
     "execution_count": 9,
     "metadata": {},
     "output_type": "execute_result"
    }
   ],
   "source": [
    "occ.intersects(utils.path_2d(path))"
   ]
  },
  {
   "cell_type": "code",
   "execution_count": 10,
   "metadata": {},
   "outputs": [
    {
     "data": {
      "text/plain": [
       "True"
      ]
     },
     "execution_count": 10,
     "metadata": {},
     "output_type": "execute_result"
    }
   ],
   "source": [
    "occ.intersects(utils.path_2d(vm.tuples_to_path([(0.0,.0, .0), (10, 20, 0.0)])))"
   ]
  },
  {
   "cell_type": "code",
   "execution_count": 12,
   "metadata": {},
   "outputs": [
    {
     "data": {
      "text/plain": [
       "False"
      ]
     },
     "execution_count": 12,
     "metadata": {},
     "output_type": "execute_result"
    }
   ],
   "source": [
    "occ.intersects(geometry.Point(0.0, 0.0))"
   ]
  },
  {
   "cell_type": "code",
   "execution_count": null,
   "metadata": {},
   "outputs": [],
   "source": []
  }
 ],
 "metadata": {
  "kernelspec": {
   "display_name": "Python 3",
   "language": "python",
   "name": "python3"
  },
  "language_info": {
   "codemirror_mode": {
    "name": "ipython",
    "version": 3
   },
   "file_extension": ".py",
   "mimetype": "text/x-python",
   "name": "python",
   "nbconvert_exporter": "python",
   "pygments_lexer": "ipython3",
   "version": "3.8.10"
  },
  "vscode": {
   "interpreter": {
    "hash": "767d51c1340bd893661ea55ea3124f6de3c7a262a8b4abca0554b478b1e2ff90"
   }
  }
 },
 "nbformat": 4,
 "nbformat_minor": 2
}
