{
 "cells": [
  {
   "cell_type": "code",
   "execution_count": 1,
   "metadata": {},
   "outputs": [],
   "source": [
    "from planning import utils\n",
    "from shapely import geometry\n",
    "from trajectory_generator.vehicle_model_node import (\n",
    "    TrajectoryGenerator,\n",
    "    Vehicle,\n",
    ")\n"
   ]
  },
  {
   "cell_type": "code",
   "execution_count": 2,
   "metadata": {},
   "outputs": [],
   "source": [
    "vm = TrajectoryGenerator(\n",
    "                         model=Vehicle(1),\n",
    "                         step=0.1,\n",
    "                         r=0.2,\n",
    "                         r_step=1.0,\n",
    "        )\n"
   ]
  },
  {
   "cell_type": "code",
   "execution_count": 3,
   "metadata": {},
   "outputs": [
    {
     "data": {
      "image/svg+xml": [
       "<svg xmlns=\"http://www.w3.org/2000/svg\" xmlns:xlink=\"http://www.w3.org/1999/xlink\" width=\"100.0\" height=\"100.0\" viewBox=\"-1.246341463414634 -4.276341463414634 3.6482926829268294 5.722682926829268\" preserveAspectRatio=\"xMinYMin meet\"><g transform=\"matrix(1,0,0,-1,0,-2.8299999999999996)\"><g><path fill-rule=\"evenodd\" fill=\"#66cc99\" stroke=\"#555555\" stroke-width=\"0.11445365853658536\" opacity=\"0.6\" d=\"M 2.1900000000000004,-2.4643902439024385 L 2.1400000000000006,-2.564390243902439 L 1.8899999999999997,-2.4643902439024385 L 0.69,-2.5143902439024384 L 0.6143902439024389,-2.6900000000000004 L 0.6643902439024387,-3.99 L 0.5899999999999999,-4.064390243902439 L 0.040000000000000036,-4.014390243902439 L -0.934390243902439,-3.04 L -1.0343902439024388,-1.0899999999999999 L -1.0343902439024388,1.0600000000000003 L -0.96,1.1343902439024394 L 1.6900000000000004,1.1343902439024394 L 1.8899999999999997,1.2343902439024395 L 2.064390243902439,1.2100000000000004 L 2.1643902439024387,-0.03999999999999959 L 2.1900000000000004,-2.4643902439024385 z M 2.065609756097561,-2.3899999999999997 L 2.0203149606299213,1.0100000000000002 L -0.9100000000000001,1.0356097560975612 L -0.9856097560975612,0.9100000000000001 L -0.8903149606299212,-0.69 L -0.8856097560975611,-2.79 L -0.7356097560975612,-3.09 L 0.08999999999999986,-3.9203149606299217 L 0.4900000000000002,-3.965609756097561 L 0.5703149606299216,-3.8899999999999997 L 0.5203149606299213,-2.54 L 0.18999999999999995,-2.509685039370078 L 0.10968503937007901,-2.59 L 0.08999999999999986,-3.009685039370079 L 0.08999999999999986,-2.465609756097561 L 2.065609756097561,-2.3899999999999997 z\" /><path fill-rule=\"evenodd\" fill=\"#66cc99\" stroke=\"#555555\" stroke-width=\"0.11445365853658536\" opacity=\"0.6\" d=\"M 1.0899999999999999,-0.9596850393700787 L 0.040000000000000036,-0.9596850393700787 L 0.94,-0.9203149606299208 L 1.0203149606299213,-0.8399999999999999 L 1.0203149606299213,-0.54 L 0.94,-0.46439024390243855 L 0.2400000000000002,-0.5096850393700789 L 0.02031496062992133,-0.43999999999999995 L 0.08999999999999986,-0.370314960629921 L 1.0899999999999999,-0.4203149606299208 L 1.0899999999999999,-0.9596850393700787 z\" /></g></g></svg>"
      ],
      "text/plain": [
       "<shapely.geometry.multipolygon.MultiPolygon at 0x7f20c40f2d00>"
      ]
     },
     "execution_count": 3,
     "metadata": {},
     "output_type": "execute_result"
    }
   ],
   "source": [
    "# no obstacle inflation\n",
    "occ = utils.calculate_occupied_space('/home/basti/ros/driving_swarm_infrastructure/src/driving_swarm_bringup/maps/lndw2022.yaml', inflation=0)\n",
    "occ"
   ]
  },
  {
   "cell_type": "code",
   "execution_count": 4,
   "metadata": {},
   "outputs": [
    {
     "data": {
      "image/svg+xml": [
       "<svg xmlns=\"http://www.w3.org/2000/svg\" xmlns:xlink=\"http://www.w3.org/1999/xlink\" width=\"100.0\" height=\"100.0\" viewBox=\"-1.4075902807754965 -4.437590280775496 3.989443902909996 6.045902852550164\" preserveAspectRatio=\"xMinYMin meet\"><g transform=\"matrix(1,0,0,-1,0,-2.8292777090008285)\"><g><path fill-rule=\"evenodd\" fill=\"#66cc99\" stroke=\"#555555\" stroke-width=\"0.12091805705100328\" opacity=\"0.6\" d=\"M -1.175620835946282,-0.8399999999999997 L -1.1836679529032683,1.0747025710494342 L -1.0433355349529403,1.2591106857478211 L 1.627867965644036,1.2843902439024393 L 1.8899999999999997,1.3843902439024394 L 2.0835427015881693,1.3779312942622708 L 2.1891106857478206,1.293335534952941 L 2.264390243902439,1.1100000000000003 L 2.357931294262271,-2.483542701588168 L 2.154702571049436,-2.7136679529032683 L 1.5900000000000003,-2.6259541785769063 L 0.8122309223836695,-2.6643902439024383 L 0.8136679529032682,-4.004702571049434 L 0.6607095105238996,-4.196678433554692 L 0.12529742895056603,-4.213667952903268 L -0.043335534952940374,-4.139110685747821 L -1.0666784335546926,-3.1107095105238987 L -1.175620835946282,-0.8399999999999997 z M -0.7927844322104537,0.8865671068831054 L -0.7356097560975611,-2.7308985056155923 L -0.5915550330508993,-3.021922688690698 L 0.15275098553785643,-3.7709339118118135 L 0.4203149606299216,-3.8156097560975613 L 0.4203149606299216,-2.804931357561088 L 0.3703149606299213,-2.659685039370078 L 0.25968503937007903,-2.659685039370078 L 0.23865458666186382,-3.074014124518251 L 0.10397007729585768,-3.1590330789968104 L -0.035751056548060975,-3.096066017177982 L -0.07968503937007884,-2.49 L -0.016834074092188164,-2.3603173982891006 L 0.27547180079086026,-2.2710201803201615 L 1.9203149606299212,-2.2656097560975614 L 1.915609756097561,0.8008985056155925 L 1.8717758938157922,0.8903149606299215 L -0.7927844322104537,0.8865671068831054 z\" /><path fill-rule=\"evenodd\" fill=\"#66cc99\" stroke=\"#555555\" stroke-width=\"0.12091805705100328\" opacity=\"0.6\" d=\"M 0.1308985056155921,-0.6143902439024386 L -0.031309680243700275,-0.5963558814886724 L -0.1269601559572635,-0.4684612022625734 L 0.046457298411830536,-0.22677391027008964 L 1.1335427015881698,-0.2767739102700897 L 1.2568028314305633,-0.4107364516975811 L 1.25322608972991,-0.9835427015881693 L 1.104702571049434,-1.1089627483709081 L -0.0030967979382233377,-1.103360597512276 L -0.12968503937007866,-0.9400000000000003 L -0.01740251485476422,-0.7817330307532281 L 0.865609756097561,-0.767357034340552 L 0.865609756097561,-0.6143902439024386 L 0.1308985056155921,-0.6143902439024386 z\" /></g></g></svg>"
      ],
      "text/plain": [
       "<shapely.geometry.multipolygon.MultiPolygon at 0x7f207214a190>"
      ]
     },
     "execution_count": 4,
     "metadata": {},
     "output_type": "execute_result"
    }
   ],
   "source": [
    "# with obstacle inflation\n",
    "occ = utils.calculate_occupied_space('/home/basti/ros/driving_swarm_infrastructure/src/driving_swarm_bringup/maps/lndw2022.yaml')\n",
    "occ"
   ]
  },
  {
   "cell_type": "code",
   "execution_count": 6,
   "metadata": {},
   "outputs": [
    {
     "data": {
      "text/plain": [
       "[(0.0, 0.0, 3.0),\n",
       " (-0.09147042720881787, 0.03776977621070235, 2.5),\n",
       " (-0.1536354837531629, 0.11476913201066062, 2.0),\n",
       " (-0.17127499570883745, 0.2121459396536297, 1.4999999999999998),\n",
       " (-0.14007019534960585, 0.30605896049371706, 1.0),\n",
       " (-0.06766110610886715, 0.37351501169816365, 0.5),\n",
       " (0.028224001611973356, 0.3979984993200891, 4.440892098500626e-16),\n",
       " (0.12534175306570963, 0.37661809950903935, 5.965997999510433),\n",
       " (0.22035339717142574, 0.3454285582439174, 5.965997999510433),\n",
       " (0.31536504127714177, 0.3142390169787955, 5.965997999510433),\n",
       " (0.4103766853828578, 0.2830494757136736, 5.965997999510433),\n",
       " (0.505388329488574, 0.25185993444855165, 5.965997999510433),\n",
       " (0.60039997359429, 0.2206703931834298, 5.965997999510433),\n",
       " (0.6954116177000064, 0.1894808519183078, 5.965997999510433),\n",
       " (0.7904232618057224, 0.1582913106531859, 5.965997999510433),\n",
       " (0.8854349059114388, 0.12710176938806392, 5.965997999510433),\n",
       " (0.9816633085042495, 0.10084065514324025, 6.19146596014092),\n",
       " (1.0793878474051344, 0.11643903792414415, 0.4082806529613334),\n",
       " (1.157670935547239, 0.17697954634376065, 0.9082806529613334),\n",
       " (1.19734614273523, 0.2676397525169222, 1.4082806529613334),\n",
       " (1.1886995945282628, 0.3662228760872107, 1.9082806529613334),\n",
       " (1.1338482674863133, 0.44859233019798705, 2.4082806529613334),\n",
       " (1.0462216794761596, 0.4945811997477918, 2.9082806529613334),\n",
       " (1.0, 0.5, 3.1415)]"
      ]
     },
     "execution_count": 6,
     "metadata": {},
     "output_type": "execute_result"
    }
   ],
   "source": [
    "path = vm.tuples_to_path([(0.0, 0.0, 3.0), (1.0, 0.5, 3.1415)])\n",
    "path"
   ]
  },
  {
   "cell_type": "code",
   "execution_count": 7,
   "metadata": {},
   "outputs": [
    {
     "data": {
      "image/svg+xml": [
       "<svg xmlns=\"http://www.w3.org/2000/svg\" xmlns:xlink=\"http://www.w3.org/1999/xlink\" width=\"100.0\" height=\"100.0\" viewBox=\"-0.22601984124660016 -0.05474484553776271 1.4781108295195928 0.6094896910755254\" preserveAspectRatio=\"xMinYMin meet\"><g transform=\"matrix(1,0,0,-1,0,0.5)\"><polyline fill=\"none\" stroke=\"#66cc99\" stroke-width=\"0.029562216590391856\" points=\"0.0,0.0 -0.09147042720881787,0.03776977621070235 -0.1536354837531629,0.11476913201066062 -0.17127499570883745,0.2121459396536297 -0.14007019534960585,0.30605896049371706 -0.06766110610886715,0.37351501169816365 0.028224001611973356,0.3979984993200891 0.12534175306570963,0.37661809950903935 0.22035339717142574,0.3454285582439174 0.31536504127714177,0.3142390169787955 0.4103766853828578,0.2830494757136736 0.505388329488574,0.25185993444855165 0.60039997359429,0.2206703931834298 0.6954116177000064,0.1894808519183078 0.7904232618057224,0.1582913106531859 0.8854349059114388,0.12710176938806392 0.9816633085042495,0.10084065514324025 1.0793878474051344,0.11643903792414415 1.157670935547239,0.17697954634376065 1.19734614273523,0.2676397525169222 1.1886995945282628,0.3662228760872107 1.1338482674863133,0.44859233019798705 1.0462216794761596,0.4945811997477918 1.0,0.5\" opacity=\"0.8\" /></g></svg>"
      ],
      "text/plain": [
       "<shapely.geometry.linestring.LineString at 0x7f2071905f70>"
      ]
     },
     "execution_count": 7,
     "metadata": {},
     "output_type": "execute_result"
    }
   ],
   "source": [
    "utils.path_2d(path)"
   ]
  },
  {
   "cell_type": "code",
   "execution_count": 8,
   "metadata": {},
   "outputs": [
    {
     "data": {
      "text/plain": [
       "False"
      ]
     },
     "execution_count": 8,
     "metadata": {},
     "output_type": "execute_result"
    }
   ],
   "source": [
    "occ.intersects(utils.path_2d(path))"
   ]
  },
  {
   "cell_type": "code",
   "execution_count": 9,
   "metadata": {},
   "outputs": [
    {
     "data": {
      "text/plain": [
       "True"
      ]
     },
     "execution_count": 9,
     "metadata": {},
     "output_type": "execute_result"
    }
   ],
   "source": [
    "occ.intersects(utils.path_2d(vm.tuples_to_path([(0.0,.0, .0), (10, 20, 0.0)])))"
   ]
  },
  {
   "cell_type": "code",
   "execution_count": 15,
   "metadata": {},
   "outputs": [
    {
     "data": {
      "text/plain": [
       "False"
      ]
     },
     "execution_count": 15,
     "metadata": {},
     "output_type": "execute_result"
    }
   ],
   "source": [
    "occ.intersects(geometry.Point(0.0, 0.0))"
   ]
  },
  {
   "cell_type": "code",
   "execution_count": 16,
   "metadata": {},
   "outputs": [],
   "source": [
    "import networkx as nx"
   ]
  },
  {
   "cell_type": "code",
   "execution_count": 17,
   "metadata": {},
   "outputs": [],
   "source": [
    "roadmap = nx.DiGraph()"
   ]
  },
  {
   "cell_type": "code",
   "execution_count": 18,
   "metadata": {},
   "outputs": [],
   "source": [
    "roadmap.add_node((0.0, 0.0, 0.0))\n",
    "roadmap.add_node((0.0, 1.0, 1.0))\n",
    "roadmap.add_node((0.0, 1.5, 1.5))"
   ]
  },
  {
   "cell_type": "code",
   "execution_count": 19,
   "metadata": {},
   "outputs": [],
   "source": [
    "path=vm.tuples_to_path([(0.0, 0.0, 0.0),(0.0, 1.0, 1.0)])\n",
    "roadmap.add_edge((0.0, 0.0, 0.0), (0.0, 1.0, 1.0), path=path, cost=len(path))\n",
    "path=vm.tuples_to_path([(0.0, 1.0, 1.0),(0.0, 1.5, 1.5)])\n",
    "roadmap.add_edge((0.0, 1.0, 1.0), (0.0, 1.5, 1.5), path=path, cost=len(path))"
   ]
  },
  {
   "cell_type": "code",
   "execution_count": 20,
   "metadata": {},
   "outputs": [
    {
     "data": {
      "text/plain": [
       "[(0.0, 0.0, 0.0), (0.0, 1.0, 1.0), (0.0, 1.5, 1.5)]"
      ]
     },
     "execution_count": 20,
     "metadata": {},
     "output_type": "execute_result"
    }
   ],
   "source": [
    "s1 = nx.shortest_path(roadmap, (0.0, 0.0, 0.0), (0.0, 1.5, 1.5), weight=\"cost\")\n",
    "s1"
   ]
  },
  {
   "cell_type": "code",
   "execution_count": 21,
   "metadata": {},
   "outputs": [
    {
     "data": {
      "image/svg+xml": [
       "<svg xmlns=\"http://www.w3.org/2000/svg\" xmlns:xlink=\"http://www.w3.org/1999/xlink\" width=\"100.0\" height=\"100.0\" viewBox=\"-0.08633394646498163 -0.06 0.34583294378579255 1.62\" preserveAspectRatio=\"xMinYMin meet\"><g transform=\"matrix(1,0,0,-1,0,1.5)\"><polyline fill=\"none\" stroke=\"#66cc99\" stroke-width=\"0.032400000000000005\" points=\"0.0,0.0 0.0958851077208406,0.02448348762192545 0.16829419696157932,0.09193953882637206 0.1994989973208109,0.18585255966645947 0.18233175922928663,0.2834188994734866 0.14730447554796075,0.3770836708547691 0.1122771918666349,0.47074844223605156 0.07724990818530904,0.564413213617334 0.042222624503983154,0.6580779849986167 0.007195340822657315,0.7517427563798992 -0.02633394646498164,0.8458973213913921 -0.024581882654966126,0.9448433941844837 0.0,1.0 0.03120480035923159,1.0939130208400873 0.024850153068548073,1.1936069397347033 0.015937729385489055,1.293208991440949 0.007025305702430044,1.3928110431471947 -0.000390978529023861,1.4924856249271379 0.0,1.5\" opacity=\"0.8\" /></g></svg>"
      ],
      "text/plain": [
       "<shapely.geometry.linestring.LineString at 0x7f207214a5e0>"
      ]
     },
     "execution_count": 21,
     "metadata": {},
     "output_type": "execute_result"
    }
   ],
   "source": [
    "p1 = utils.path_2d(vm.tuples_to_path(s1))\n",
    "p1"
   ]
  },
  {
   "cell_type": "code",
   "execution_count": 22,
   "metadata": {},
   "outputs": [
    {
     "data": {
      "text/plain": [
       "[(0.0, 0.0, 0.0), (0.0, 1.5, 1.5)]"
      ]
     },
     "execution_count": 22,
     "metadata": {},
     "output_type": "execute_result"
    }
   ],
   "source": [
    "path=vm.tuples_to_path([(0.0, 0.0, 0.0),(0.0, 1.5, 1.5)])\n",
    "roadmap.add_edge((0.0, 0.0, 0.0), (0.0, 1.5, 1.5), path=path, cost=len(path))\n",
    "s2 = nx.shortest_path(roadmap, (0.0, 0.0, 0.0), (0.0, 1.5, 1.5), weight=\"cost\")\n",
    "s2"
   ]
  },
  {
   "cell_type": "code",
   "execution_count": 26,
   "metadata": {},
   "outputs": [
    {
     "data": {
      "image/svg+xml": [
       "<svg xmlns=\"http://www.w3.org/2000/svg\" xmlns:xlink=\"http://www.w3.org/1999/xlink\" width=\"100.0\" height=\"100.0\" viewBox=\"-0.06 -0.06 0.3194989973208109 1.62\" preserveAspectRatio=\"xMinYMin meet\"><g transform=\"matrix(1,0,0,-1,0,1.5)\"><polyline fill=\"none\" stroke=\"#66cc99\" stroke-width=\"0.032400000000000005\" points=\"0.0,0.0 0.0958851077208406,0.02448348762192545 0.16829419696157932,0.09193953882637206 0.1994989973208109,0.18585255966645947 0.1889456080309564,0.28502920622144334 0.17315819369844437,0.3837751304345145 0.15737077936593238,0.48252105464758555 0.1415833650334204,0.5812669788606567 0.12579595070090838,0.680012903073728 0.11000853636839639,0.7787588272867989 0.0942211220358844,0.8775047514998703 0.0784337077033724,0.9762506757129414 0.0626462933708604,1.0749965999260125 0.04685887903834838,1.1737425241390838 0.031071464705836372,1.2724884483521552 0.015284050373324344,1.3712343725652265 0.00012320663910849738,1.4700635099785933 0.0,1.5\" opacity=\"0.8\" /></g></svg>"
      ],
      "text/plain": [
       "<shapely.geometry.linestring.LineString at 0x7f207158f790>"
      ]
     },
     "execution_count": 26,
     "metadata": {},
     "output_type": "execute_result"
    }
   ],
   "source": [
    "p2 = utils.path_2d(vm.tuples_to_path(s2))\n",
    "p2"
   ]
  },
  {
   "cell_type": "code",
   "execution_count": 23,
   "metadata": {},
   "outputs": [],
   "source": [
    "# plotting\n",
    "import matplotlib.pyplot as plt\n",
    "import shapely.ops as so\n",
    "#from matplotlib.patches import Polygon\n",
    "from descartes import PolygonPatch"
   ]
  },
  {
   "cell_type": "code",
   "execution_count": 27,
   "metadata": {},
   "outputs": [
    {
     "data": {
      "image/png": "[encoded data removed]",
      "text/plain": [
       "<Figure size 432x288 with 1 Axes>"
      ]
     },
     "metadata": {
      "needs_background": "light"
     },
     "output_type": "display_data"
    }
   ],
   "source": [
    "plt.figure()\n",
    "for poly in so.cascaded_union(occ):\n",
    "    ax = plt.gca()\n",
    "    ax.add_patch(PolygonPatch(poly.buffer(0), alpha=0.2))\n",
    "for path in [p1, p2]:\n",
    "    plt.plot(*path.xy)\n",
    "    \n",
    "plt.show()"
   ]
  },
  {
   "cell_type": "code",
   "execution_count": 28,
   "metadata": {},
   "outputs": [
    {
     "data": {
      "text/plain": [
       "True"
      ]
     },
     "execution_count": 28,
     "metadata": {},
     "output_type": "execute_result"
    }
   ],
   "source": [
    "p1.intersects(occ)"
   ]
  },
  {
   "cell_type": "code",
   "execution_count": 29,
   "metadata": {},
   "outputs": [
    {
     "data": {
      "text/plain": [
       "True"
      ]
     },
     "execution_count": 29,
     "metadata": {},
     "output_type": "execute_result"
    }
   ],
   "source": [
    "p2.intersects(occ)"
   ]
  },
  {
   "cell_type": "code",
   "execution_count": null,
   "metadata": {},
   "outputs": [],
   "source": []
  }
 ],
 "metadata": {
  "kernelspec": {
   "display_name": "Python 3",
   "language": "python",
   "name": "python3"
  },
  "language_info": {
   "codemirror_mode": {
    "name": "ipython",
    "version": 3
   },
   "file_extension": ".py",
   "mimetype": "text/x-python",
   "name": "python",
   "nbconvert_exporter": "python",
   "pygments_lexer": "ipython3",
   "version": "3.8.10"
  },
  "vscode": {
   "interpreter": {
    "hash": "767d51c1340bd893661ea55ea3124f6de3c7a262a8b4abca0554b478b1e2ff90"
   }
  }
 },
 "nbformat": 4,
 "nbformat_minor": 2
}
