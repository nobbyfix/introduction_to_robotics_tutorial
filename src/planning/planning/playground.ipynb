{
 "cells": [
  {
   "cell_type": "code",
   "execution_count": 44,
   "metadata": {},
   "outputs": [],
   "source": [
    "from planning import utils\n",
    "from shapely import geometry\n",
    "from trajectory_generator.vehicle_model_node import (\n",
    "    TrajectoryGenerator,\n",
    "    Vehicle,\n",
    ")\n"
   ]
  },
  {
   "cell_type": "code",
   "execution_count": 45,
   "metadata": {},
   "outputs": [],
   "source": [
    "vm = TrajectoryGenerator(\n",
    "                         model=Vehicle(5),\n",
    "                         step=0.1,\n",
    "                         r=0.8,\n",
    "                         r_step=1.0,\n",
    "        )\n"
   ]
  },
  {
   "cell_type": "code",
   "execution_count": 65,
   "metadata": {},
   "outputs": [
    {
     "data": {
      "image/svg+xml": [
       "<svg xmlns=\"http://www.w3.org/2000/svg\" xmlns:xlink=\"http://www.w3.org/1999/xlink\" width=\"100.0\" height=\"100.0\" viewBox=\"-1.246341463414634 -4.276341463414634 3.6482926829268294 5.722682926829268\" preserveAspectRatio=\"xMinYMin meet\"><g transform=\"matrix(1,0,0,-1,0,-2.8299999999999996)\"><g><path fill-rule=\"evenodd\" fill=\"#66cc99\" stroke=\"#555555\" stroke-width=\"0.11445365853658536\" opacity=\"0.6\" d=\"M 2.1900000000000004,-2.4643902439024385 L 2.1400000000000006,-2.564390243902439 L 1.8899999999999997,-2.4643902439024385 L 0.69,-2.5143902439024384 L 0.6143902439024389,-2.6900000000000004 L 0.6643902439024387,-3.99 L 0.5899999999999999,-4.064390243902439 L 0.040000000000000036,-4.014390243902439 L -0.934390243902439,-3.04 L -1.0343902439024388,-1.0899999999999999 L -1.0343902439024388,1.0600000000000003 L -0.96,1.1343902439024394 L 1.6900000000000004,1.1343902439024394 L 1.8899999999999997,1.2343902439024395 L 2.064390243902439,1.2100000000000004 L 2.1643902439024387,-0.03999999999999959 L 2.1900000000000004,-2.4643902439024385 z M 2.065609756097561,-2.3899999999999997 L 2.0203149606299213,1.0100000000000002 L -0.9100000000000001,1.0356097560975612 L -0.9856097560975612,0.9100000000000001 L -0.8903149606299212,-0.69 L -0.8856097560975611,-2.79 L -0.7356097560975612,-3.09 L 0.08999999999999986,-3.9203149606299217 L 0.4900000000000002,-3.965609756097561 L 0.5703149606299216,-3.8899999999999997 L 0.5203149606299213,-2.54 L 0.18999999999999995,-2.509685039370078 L 0.10968503937007901,-2.59 L 0.08999999999999986,-3.009685039370079 L 0.08999999999999986,-2.465609756097561 L 2.065609756097561,-2.3899999999999997 z\" /><path fill-rule=\"evenodd\" fill=\"#66cc99\" stroke=\"#555555\" stroke-width=\"0.11445365853658536\" opacity=\"0.6\" d=\"M 1.0899999999999999,-0.9596850393700787 L 0.040000000000000036,-0.9596850393700787 L 0.94,-0.9203149606299208 L 1.0203149606299213,-0.8399999999999999 L 1.0203149606299213,-0.54 L 0.94,-0.46439024390243855 L 0.2400000000000002,-0.5096850393700789 L 0.02031496062992133,-0.43999999999999995 L 0.08999999999999986,-0.370314960629921 L 1.0899999999999999,-0.4203149606299208 L 1.0899999999999999,-0.9596850393700787 z\" /></g></g></svg>"
      ],
      "text/plain": [
       "<shapely.geometry.multipolygon.MultiPolygon at 0x7f8e256fe760>"
      ]
     },
     "execution_count": 65,
     "metadata": {},
     "output_type": "execute_result"
    }
   ],
   "source": [
    "# no obstacle inflation\n",
    "occ = utils.calculate_occupied_space('/home/basti/ros/driving_swarm_infrastructure/src/driving_swarm_bringup/maps/lndw2022.yaml', inflation=0)\n",
    "occ"
   ]
  },
  {
   "cell_type": "code",
   "execution_count": 47,
   "metadata": {},
   "outputs": [
    {
     "data": {
      "image/svg+xml": [
       "<svg xmlns=\"http://www.w3.org/2000/svg\" xmlns:xlink=\"http://www.w3.org/1999/xlink\" width=\"100.0\" height=\"100.0\" viewBox=\"-1.4075902807754965 -4.437590280775496 3.989443902909996 6.045902852550164\" preserveAspectRatio=\"xMinYMin meet\"><g transform=\"matrix(1,0,0,-1,0,-2.8292777090008285)\"><g><path fill-rule=\"evenodd\" fill=\"#66cc99\" stroke=\"#555555\" stroke-width=\"0.12091805705100328\" opacity=\"0.6\" d=\"M -1.175620835946282,-0.8399999999999997 L -1.1836679529032683,1.0747025710494342 L -1.0433355349529403,1.2591106857478211 L 1.627867965644036,1.2843902439024393 L 1.8899999999999997,1.3843902439024394 L 2.0835427015881693,1.3779312942622708 L 2.1891106857478206,1.293335534952941 L 2.264390243902439,1.1100000000000003 L 2.357931294262271,-2.483542701588168 L 2.154702571049436,-2.7136679529032683 L 1.5900000000000003,-2.6259541785769063 L 0.8122309223836695,-2.6643902439024383 L 0.8136679529032682,-4.004702571049434 L 0.6607095105238996,-4.196678433554692 L 0.12529742895056603,-4.213667952903268 L -0.043335534952940374,-4.139110685747821 L -1.0666784335546926,-3.1107095105238987 L -1.175620835946282,-0.8399999999999997 z M -0.7927844322104537,0.8865671068831054 L -0.7356097560975611,-2.7308985056155923 L -0.5915550330508993,-3.021922688690698 L 0.15275098553785643,-3.7709339118118135 L 0.4203149606299216,-3.8156097560975613 L 0.4203149606299216,-2.804931357561088 L 0.3703149606299213,-2.659685039370078 L 0.25968503937007903,-2.659685039370078 L 0.23865458666186382,-3.074014124518251 L 0.10397007729585768,-3.1590330789968104 L -0.035751056548060975,-3.096066017177982 L -0.07968503937007884,-2.49 L -0.016834074092188164,-2.3603173982891006 L 0.27547180079086026,-2.2710201803201615 L 1.9203149606299212,-2.2656097560975614 L 1.915609756097561,0.8008985056155925 L 1.8717758938157922,0.8903149606299215 L -0.7927844322104537,0.8865671068831054 z\" /><path fill-rule=\"evenodd\" fill=\"#66cc99\" stroke=\"#555555\" stroke-width=\"0.12091805705100328\" opacity=\"0.6\" d=\"M 0.1308985056155921,-0.6143902439024386 L -0.031309680243700275,-0.5963558814886724 L -0.1269601559572635,-0.4684612022625734 L 0.046457298411830536,-0.22677391027008964 L 1.1335427015881698,-0.2767739102700897 L 1.2568028314305633,-0.4107364516975811 L 1.25322608972991,-0.9835427015881693 L 1.104702571049434,-1.1089627483709081 L -0.0030967979382233377,-1.103360597512276 L -0.12968503937007866,-0.9400000000000003 L -0.01740251485476422,-0.7817330307532281 L 0.865609756097561,-0.767357034340552 L 0.865609756097561,-0.6143902439024386 L 0.1308985056155921,-0.6143902439024386 z\" /></g></g></svg>"
      ],
      "text/plain": [
       "<shapely.geometry.multipolygon.MultiPolygon at 0x7f8e78177f40>"
      ]
     },
     "execution_count": 47,
     "metadata": {},
     "output_type": "execute_result"
    }
   ],
   "source": [
    "# with obstacle inflation\n",
    "occ = utils.calculate_occupied_space('/home/basti/ros/driving_swarm_infrastructure/src/driving_swarm_bringup/maps/lndw2022.yaml')\n",
    "occ"
   ]
  },
  {
   "cell_type": "code",
   "execution_count": 48,
   "metadata": {},
   "outputs": [
    {
     "data": {
      "text/plain": [
       "[(0.0, 0.0, 0),\n",
       " (0.03240881144614784, -0.12165702830965106, 0),\n",
       " (0.08250814440597769, -0.1766761226008788, 0),\n",
       " (0.14734495068030534, -0.17532569528530892, 0),\n",
       " (0.22396618206994645, -0.12787415877456698, 0),\n",
       " (0.3094187903757169, -0.04458992548027886, 0),\n",
       " (0.4007497273984324, 0.06425859218593007, 0),\n",
       " (0.4950059449389086, 0.18840298181243373, 0),\n",
       " (0.5892343947979616, 0.31757483098760675, 0),\n",
       " (0.6804820287764068, 0.44150572729982335, 0),\n",
       " (0.7657957986750601, 0.5499272583374577, 0),\n",
       " (0.8422226562947372, 0.6325710116888844, 0),\n",
       " (0.9068095534362542, 0.6791685749424778, 0),\n",
       " (0.9566034419004263, 0.6794515356866118, 0),\n",
       " (0.9886512734880697, 0.6231514815096612, 0),\n",
       " (1.0, 0.5, 0),\n",
       " (1.0, 0.5, 3.1415)]"
      ]
     },
     "execution_count": 48,
     "metadata": {},
     "output_type": "execute_result"
    }
   ],
   "source": [
    "path = vm.tuples_to_path([(0.0, 0.0, 3.0), (1.0, 0.5, 3.1415)])\n",
    "path"
   ]
  },
  {
   "cell_type": "code",
   "execution_count": 49,
   "metadata": {},
   "outputs": [
    {
     "data": {
      "image/svg+xml": [
       "<svg xmlns=\"http://www.w3.org/2000/svg\" xmlns:xlink=\"http://www.w3.org/1999/xlink\" width=\"100.0\" height=\"100.0\" viewBox=\"-0.04 -0.21667612260087882 1.08 0.9361276582874907\" preserveAspectRatio=\"xMinYMin meet\"><g transform=\"matrix(1,0,0,-1,0,0.5027754130857329)\"><polyline fill=\"none\" stroke=\"#66cc99\" stroke-width=\"0.0216\" points=\"0.0,0.0 0.03240881144614784,-0.12165702830965106 0.08250814440597769,-0.1766761226008788 0.14734495068030534,-0.17532569528530892 0.22396618206994645,-0.12787415877456698 0.3094187903757169,-0.04458992548027886 0.4007497273984324,0.06425859218593007 0.4950059449389086,0.18840298181243373 0.5892343947979616,0.31757483098760675 0.6804820287764068,0.44150572729982335 0.7657957986750601,0.5499272583374577 0.8422226562947372,0.6325710116888844 0.9068095534362542,0.6791685749424778 0.9566034419004263,0.6794515356866118 0.9886512734880697,0.6231514815096612 1.0,0.5 1.0,0.5\" opacity=\"0.8\" /></g></svg>"
      ],
      "text/plain": [
       "<shapely.geometry.linestring.LineString at 0x7f8e258c2d60>"
      ]
     },
     "execution_count": 49,
     "metadata": {},
     "output_type": "execute_result"
    }
   ],
   "source": [
    "utils.path_2d(path)"
   ]
  },
  {
   "cell_type": "code",
   "execution_count": 50,
   "metadata": {},
   "outputs": [
    {
     "data": {
      "text/plain": [
       "False"
      ]
     },
     "execution_count": 50,
     "metadata": {},
     "output_type": "execute_result"
    }
   ],
   "source": [
    "occ.intersects(utils.path_2d(path))"
   ]
  },
  {
   "cell_type": "code",
   "execution_count": 51,
   "metadata": {},
   "outputs": [
    {
     "data": {
      "text/plain": [
       "True"
      ]
     },
     "execution_count": 51,
     "metadata": {},
     "output_type": "execute_result"
    }
   ],
   "source": [
    "occ.intersects(utils.path_2d(vm.tuples_to_path([(0.0,.0, .0), (10, 20, 0.0)])))"
   ]
  },
  {
   "cell_type": "code",
   "execution_count": 52,
   "metadata": {},
   "outputs": [
    {
     "data": {
      "text/plain": [
       "False"
      ]
     },
     "execution_count": 52,
     "metadata": {},
     "output_type": "execute_result"
    }
   ],
   "source": [
    "occ.intersects(geometry.Point(0.0, 0.0))"
   ]
  },
  {
   "cell_type": "code",
   "execution_count": 53,
   "metadata": {},
   "outputs": [],
   "source": [
    "import networkx as nx"
   ]
  },
  {
   "cell_type": "code",
   "execution_count": 54,
   "metadata": {},
   "outputs": [],
   "source": [
    "roadmap = nx.DiGraph()"
   ]
  },
  {
   "cell_type": "code",
   "execution_count": 55,
   "metadata": {},
   "outputs": [],
   "source": [
    "roadmap.add_node((0.0, 0.0, 0.0))\n",
    "roadmap.add_node((0.0, 1.0, 1.0))\n",
    "roadmap.add_node((0.0, 1.5, 1.5))"
   ]
  },
  {
   "cell_type": "code",
   "execution_count": 56,
   "metadata": {},
   "outputs": [],
   "source": [
    "path=vm.tuples_to_path([(0.0, 0.0, 0.0),(0.0, 1.0, 1.0)])\n",
    "roadmap.add_edge((0.0, 0.0, 0.0), (0.0, 1.0, 1.0), path=path, cost=len(path))\n",
    "path=vm.tuples_to_path([(0.0, 1.0, 1.0),(0.0, 1.5, 1.5)])\n",
    "roadmap.add_edge((0.0, 1.0, 1.0), (0.0, 1.5, 1.5), path=path, cost=len(path))"
   ]
  },
  {
   "cell_type": "code",
   "execution_count": 57,
   "metadata": {},
   "outputs": [
    {
     "data": {
      "text/plain": [
       "[(0.0, 0.0, 0.0), (0.0, 1.0, 1.0), (0.0, 1.5, 1.5)]"
      ]
     },
     "execution_count": 57,
     "metadata": {},
     "output_type": "execute_result"
    }
   ],
   "source": [
    "s1 = nx.shortest_path(roadmap, (0.0, 0.0, 0.0), (0.0, 1.5, 1.5), weight=\"cost\")\n",
    "s1"
   ]
  },
  {
   "cell_type": "code",
   "execution_count": 58,
   "metadata": {},
   "outputs": [
    {
     "data": {
      "image/svg+xml": [
       "<svg xmlns=\"http://www.w3.org/2000/svg\" xmlns:xlink=\"http://www.w3.org/1999/xlink\" width=\"100.0\" height=\"100.0\" viewBox=\"-0.35739139838740386 -0.06 0.5969281782598659 1.62\" preserveAspectRatio=\"xMinYMin meet\"><g transform=\"matrix(1,0,0,-1,0,1.5)\"><polyline fill=\"none\" stroke=\"#66cc99\" stroke-width=\"0.032400000000000005\" points=\"0.0,0.0 -0.015173030529969586,0.19386382017968792 -0.0546229099078905,0.34419074438241365 -0.10924581981578102,0.4586294226491251 -0.16993794193565936,0.5448285050207694 -0.2275954579495438,0.6104366415382944 -0.2731145495394526,0.6631024822426473 -0.29739139838740386,0.7104746771747761 -0.29132218617541605,0.7602018763756282 -0.24580309458550723,0.8199327298861512 -0.15173030529969575,0.8973158877472928 0.0,1.0 0.0,1.0 0.15102611731645413,1.1291252124956463 0.17953677987246205,1.2308992625351394 0.12185724142430918,1.3091616136418214 0.014312755728280878,1.3677517293390322 -0.10677142345933736,1.4105090731501155 -0.20507004238225995,1.441273108598412 -0.24425784728420155,1.4638832992072635 -0.1880095844088768,1.4821791085000124 0.0,1.5 0.0,1.5\" opacity=\"0.8\" /></g></svg>"
      ],
      "text/plain": [
       "<shapely.geometry.linestring.LineString at 0x7f8e258c2eb0>"
      ]
     },
     "execution_count": 58,
     "metadata": {},
     "output_type": "execute_result"
    }
   ],
   "source": [
    "p1 = utils.path_2d(vm.tuples_to_path(s1))\n",
    "p1"
   ]
  },
  {
   "cell_type": "code",
   "execution_count": 59,
   "metadata": {},
   "outputs": [
    {
     "data": {
      "text/plain": [
       "[(0.0, 0.0, 0.0), (0.0, 1.5, 1.5)]"
      ]
     },
     "execution_count": 59,
     "metadata": {},
     "output_type": "execute_result"
    }
   ],
   "source": [
    "path=vm.tuples_to_path([(0.0, 0.0, 0.0),(0.0, 1.5, 1.5)])\n",
    "roadmap.add_edge((0.0, 0.0, 0.0), (0.0, 1.5, 1.5), path=path, cost=len(path))\n",
    "s2 = nx.shortest_path(roadmap, (0.0, 0.0, 0.0), (0.0, 1.5, 1.5), weight=\"cost\")\n",
    "s2"
   ]
  },
  {
   "cell_type": "code",
   "execution_count": 60,
   "metadata": {},
   "outputs": [
    {
     "data": {
      "image/svg+xml": [
       "<svg xmlns=\"http://www.w3.org/2000/svg\" xmlns:xlink=\"http://www.w3.org/1999/xlink\" width=\"100.0\" height=\"100.0\" viewBox=\"-0.41360417982155445 -0.06 0.47360417982155445 1.62\" preserveAspectRatio=\"xMinYMin meet\"><g transform=\"matrix(1,0,0,-1,0,1.5)\"><polyline fill=\"none\" stroke=\"#66cc99\" stroke-width=\"0.032400000000000005\" points=\"0.0,0.0 -0.008767045780699697,0.14805992693846748 -0.032730304247945534,0.2918195605702785 -0.06838295708945764,0.4306486801200461 -0.11221818599295613,0.5639170648123835 -0.1607291726461611,0.6909944938719034 -0.21040909873679275,0.8112507465232188 -0.2577511459525711,0.9240556019909432 -0.29924849598121633,1.0287788394996893 -0.33139433051044853,1.1247902382740698 -0.3506818312279879,1.2114595775386983 -0.35360417982155445,1.2881566365181873 -0.3366545579788684,1.3542511944371503 -0.2963261473876498,1.4091130305202 -0.22911212973561876,1.4521119239919495 -0.13150568671049545,1.4826176540770117 0.0,1.5 0.0,1.5\" opacity=\"0.8\" /></g></svg>"
      ],
      "text/plain": [
       "<shapely.geometry.linestring.LineString at 0x7f8e2562f760>"
      ]
     },
     "execution_count": 60,
     "metadata": {},
     "output_type": "execute_result"
    }
   ],
   "source": [
    "p2 = utils.path_2d(vm.tuples_to_path(s2))\n",
    "p2"
   ]
  },
  {
   "cell_type": "code",
   "execution_count": 61,
   "metadata": {},
   "outputs": [],
   "source": [
    "# plotting\n",
    "import matplotlib.pyplot as plt\n",
    "import shapely.ops as so\n",
    "#from matplotlib.patches import Polygon\n",
    "from descartes import PolygonPatch"
   ]
  },
  {
   "cell_type": "code",
   "execution_count": 62,
   "metadata": {},
   "outputs": [
    {
     "data": {
      "image/png": "[encoded data removed]",
      "text/plain": [
       "<Figure size 432x288 with 1 Axes>"
      ]
     },
     "metadata": {
      "needs_background": "light"
     },
     "output_type": "display_data"
    }
   ],
   "source": [
    "plt.figure()\n",
    "for poly in so.cascaded_union(occ):\n",
    "    ax = plt.gca()\n",
    "    ax.add_patch(PolygonPatch(poly.buffer(0), alpha=0.2))\n",
    "for path in [p1, p2]:\n",
    "    plt.plot(*path.xy)\n",
    "    \n",
    "plt.show()"
   ]
  },
  {
   "cell_type": "code",
   "execution_count": 63,
   "metadata": {},
   "outputs": [
    {
     "data": {
      "text/plain": [
       "True"
      ]
     },
     "execution_count": 63,
     "metadata": {},
     "output_type": "execute_result"
    }
   ],
   "source": [
    "p1.intersects(occ)"
   ]
  },
  {
   "cell_type": "code",
   "execution_count": 64,
   "metadata": {},
   "outputs": [
    {
     "data": {
      "text/plain": [
       "True"
      ]
     },
     "execution_count": 64,
     "metadata": {},
     "output_type": "execute_result"
    }
   ],
   "source": [
    "p2.intersects(occ)"
   ]
  },
  {
   "cell_type": "code",
   "execution_count": null,
   "metadata": {},
   "outputs": [],
   "source": []
  },
  {
   "cell_type": "code",
   "execution_count": null,
   "metadata": {},
   "outputs": [],
   "source": []
  },
  {
   "cell_type": "code",
   "execution_count": null,
   "metadata": {},
   "outputs": [],
   "source": []
  }
 ],
 "metadata": {
  "kernelspec": {
   "display_name": "Python 3",
   "language": "python",
   "name": "python3"
  },
  "language_info": {
   "codemirror_mode": {
    "name": "ipython",
    "version": 3
   },
   "file_extension": ".py",
   "mimetype": "text/x-python",
   "name": "python",
   "nbconvert_exporter": "python",
   "pygments_lexer": "ipython3",
   "version": "3.8.10"
  },
  "vscode": {
   "interpreter": {
    "hash": "767d51c1340bd893661ea55ea3124f6de3c7a262a8b4abca0554b478b1e2ff90"
   }
  }
 },
 "nbformat": 4,
 "nbformat_minor": 2
}
